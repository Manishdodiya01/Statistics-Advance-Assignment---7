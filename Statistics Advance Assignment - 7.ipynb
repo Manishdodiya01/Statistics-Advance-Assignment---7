{
 "cells": [
  {
   "cell_type": "markdown",
   "id": "01fdc5f9-1e86-4cc1-ba57-0aefbcdc3c25",
   "metadata": {
    "jp-MarkdownHeadingCollapsed": true,
    "tags": []
   },
   "source": [
    "# Q1. Write a Python function that takes in two arrays of data and calculates the F-value for a variance ratio test. The function should return the F-value and the corresponding p-value for the test."
   ]
  },
  {
   "cell_type": "code",
   "execution_count": 19,
   "id": "66718902-ed96-46c7-b78f-8fa06918b652",
   "metadata": {},
   "outputs": [
    {
     "name": "stdout",
     "output_type": "stream",
     "text": [
      "F-value: 0.0\n",
      "P-value: 1.0\n"
     ]
    }
   ],
   "source": [
    "import numpy as np\n",
    "from scipy.stats import levene\n",
    "\n",
    "def calculate_f_value(data1, data2):\n",
    "\n",
    "    # Perform Levene's test\n",
    "    statistic, p_value = levene(data1, data2)\n",
    "\n",
    "    # Calculate the F-value\n",
    "    df_num = len(data1) - 1\n",
    "    df_den = len(data2) - 1\n",
    "    f_value = (statistic * df_den) / df_num\n",
    "\n",
    "    return f_value, p_value\n",
    "\n",
    "# Example usage\n",
    "group1 = np.array([4, 5, 6, 7, 8])\n",
    "group2 = np.array([10, 11, 12, 13, 14])\n",
    "\n",
    "f_value, p_value = calculate_f_value(group1, group2)\n",
    "\n",
    "print(\"F-value:\", f_value)\n",
    "print(\"P-value:\", p_value)\n"
   ]
  },
  {
   "cell_type": "markdown",
   "id": "3e791582-b4aa-43c1-8a53-900d6b7f8475",
   "metadata": {
    "jp-MarkdownHeadingCollapsed": true,
    "tags": []
   },
   "source": [
    "# Q2. Given a significance level of 0.05 and the degrees of freedom for the numerator and denominator of an F-distribution, write a Python function that returns the critical F-value for a two-tailed test."
   ]
  },
  {
   "cell_type": "code",
   "execution_count": 20,
   "id": "94940749-590e-487f-b7f7-5411b2ae50a3",
   "metadata": {},
   "outputs": [
    {
     "name": "stdout",
     "output_type": "stream",
     "text": [
      "Critical F-value 23.182446305284262\n"
     ]
    }
   ],
   "source": [
    "import numpy as np\n",
    "import scipy.stats as stats\n",
    "\n",
    "def calculate_critical_f(alpha,df_num,df_den):\n",
    "    \n",
    "    \n",
    "    critical_f_value = stats.t.ppf(1 - alpha / 2 , df_num,df_den)\n",
    "    \n",
    "    return critical_f_value\n",
    "\n",
    "alpha = 0.05\n",
    "df_num = 3\n",
    "df_den = 20\n",
    "\n",
    "critical_f = calculate_critical_f(alpha,df_num,df_den)\n",
    "\n",
    "print(\"Critical F-value\",critical_f)"
   ]
  },
  {
   "cell_type": "markdown",
   "id": "cb98b2e6-3c1f-47be-9aa0-c83caac583c5",
   "metadata": {
    "jp-MarkdownHeadingCollapsed": true,
    "tags": []
   },
   "source": [
    "# Q3. Write a Python program that generates random samples from two normal distributions with known variances and uses an F-test to determine if the variances are equal. The program should output the F- value, degrees of freedom, and p-value for the test."
   ]
  },
  {
   "cell_type": "code",
   "execution_count": 8,
   "id": "e9a287d7-d59c-4f5e-8989-f6fa21a478fd",
   "metadata": {},
   "outputs": [
    {
     "name": "stdout",
     "output_type": "stream",
     "text": [
      "F-value 0.5184746616860453\n",
      "Degrees of freedom: 99 , 99\n",
      "P-value 1.344869665816546e-100\n",
      "Reject the null hypothesis\n"
     ]
    }
   ],
   "source": [
    "import numpy as np\n",
    "import scipy.stats as stats\n",
    "from scipy.stats import t\n",
    "\n",
    "mean1 = 0\n",
    "varience1 = 4\n",
    "sample_size1 = 100\n",
    "\n",
    "mean2 = 0\n",
    "varience2 = 9\n",
    "sample_size2 = 100\n",
    "\n",
    "sample1 = np.random.normal(mean1,np.sqrt(varience1), sample_size1)\n",
    "sample2 = np.random.normal(mean2,np.sqrt(varience2),sample_size2)\n",
    "\n",
    "f_stat = np.var(sample1,ddof=1) / np.var(sample2,ddof=1)\n",
    "df = sample_size1 - 1\n",
    "df2 = sample_size2 - 1\n",
    "\n",
    "p_value = 2 * min(t.cdf(f_stat,df,df2),\n",
    "                 1 - t.cdf(f_stat,df,df2))\n",
    "\n",
    "print(\"F-value\",f_stat)\n",
    "print(\"Degrees of freedom:\",df,\",\",df2)\n",
    "print(\"P-value\",p_value)\n",
    "\n",
    "alpha = 0.05\n",
    "\n",
    "if p_value < alpha:\n",
    "    print(\"Reject the null hypothesis\")\n",
    "else:\n",
    "    print(\"Fail to reject the null hypothesis\")"
   ]
  },
  {
   "cell_type": "markdown",
   "id": "3ac78965-1712-4908-a49d-b1a1d728f3b9",
   "metadata": {
    "jp-MarkdownHeadingCollapsed": true,
    "tags": []
   },
   "source": [
    "# Q4.The variances of two populations are known to be 10 and 15. A sample of 12 observations is taken from each population. Conduct an F-test at the 5% significance level to determine if the variances are significantly different."
   ]
  },
  {
   "cell_type": "code",
   "execution_count": 3,
   "id": "71253525-5d8b-4b85-b74c-b93ba0f0c598",
   "metadata": {},
   "outputs": [
    {
     "name": "stdout",
     "output_type": "stream",
     "text": [
      "Fail to reject the null hypothesis\n",
      "F-value 0.6666666666666666\n",
      "Degrees of freedom 11 , 11\n",
      "P-value 0.7438051006321003\n"
     ]
    }
   ],
   "source": [
    "import scipy.stats as stats\n",
    "from scipy.stats import f\n",
    "\n",
    "var1 = 10\n",
    "var2 = 15\n",
    "\n",
    "n1 = 12\n",
    "n2 = 12\n",
    "\n",
    "df1 = n1 - 1\n",
    "df2 = n2 - 1\n",
    "\n",
    "alpha = 1 - 0.95\n",
    "\n",
    "f_critical = f.ppf(1 - alpha,dfn = df1 , dfd = df2)\n",
    "f_value = var1 / var2\n",
    "p_value = f.sf(f_value,df1,df2)\n",
    "\n",
    "if f_value > f_critical:\n",
    "    print(\"Reject the null hypothesis\")\n",
    "else:\n",
    "    print(\"Fail to reject the null hypothesis\")\n",
    "    \n",
    "print(\"F-value\",f_value)\n",
    "print(\"Degrees of freedom\",df1,\",\",df2)\n",
    "print(\"P-value\",p_value)"
   ]
  },
  {
   "cell_type": "markdown",
   "id": "f40e26dc-9032-4d87-8acd-2cb749b40011",
   "metadata": {
    "jp-MarkdownHeadingCollapsed": true,
    "tags": []
   },
   "source": [
    "# Q5. A manufacturer claims that the variance of the diameter of a certain product is 0.005. A sample of 25 products is taken, and the sample variance is found to be 0.006. Conduct an F-test at the 1% significance level to determine if the claim is justified."
   ]
  },
  {
   "cell_type": "code",
   "execution_count": 5,
   "id": "b81daf66-95bc-478c-a3da-ac01ae661f59",
   "metadata": {},
   "outputs": [
    {
     "name": "stdout",
     "output_type": "stream",
     "text": [
      "Fail to reject null hypothesis. The claim is justified.\n",
      "F-value 0.8333333333333334\n",
      "Degrees of freedom 24 , 24\n",
      "P-value 0.6706345317182756\n"
     ]
    }
   ],
   "source": [
    "import scipy.stats as stats\n",
    "\n",
    "v_claimed = 0.005\n",
    "v_sample = 0.006\n",
    "\n",
    "n = 25\n",
    "df1 = n - 1\n",
    "df2 = n - 1\n",
    "\n",
    "alpha = 1 - 0.99\n",
    "\n",
    "f_critical = stats.f.ppf(1 - alpha , df1,df2)\n",
    "f_value = v_claimed / v_sample\n",
    "\n",
    "p_value = stats.f.sf(f_value,df1,df2)\n",
    "\n",
    "if f_critical < f_value:\n",
    "    print(\"Reject null hypothesis. The claim is not justified.\")\n",
    "else:\n",
    "    print(\"Fail to reject null hypothesis. The claim is justified.\")\n",
    "    \n",
    "print(\"F-value\",f_value)\n",
    "print(\"Degrees of freedom\",df1,\",\",df2)\n",
    "print(\"P-value\",p_value)"
   ]
  },
  {
   "cell_type": "markdown",
   "id": "80d91b6f-3e6b-4cb8-9ee9-0ed92ae17cbf",
   "metadata": {
    "jp-MarkdownHeadingCollapsed": true,
    "tags": []
   },
   "source": [
    "# Q6. Write a Python function that takes in the degrees of freedom for the numerator and denominator of an F-distribution and calculates the mean and variance of the distribution. The function should return the mean and variance as a tuple."
   ]
  },
  {
   "cell_type": "code",
   "execution_count": 6,
   "id": "b9cef9ff-3d2e-48ac-885d-1bdcf06e6ad1",
   "metadata": {},
   "outputs": [
    {
     "name": "stdout",
     "output_type": "stream",
     "text": [
      "Mean: 1.25\n",
      "Variance: 1.3541666666666667\n"
     ]
    }
   ],
   "source": [
    "def f_distribution_mean_variance(df1, df2):\n",
    "    if df1 <= 0 or df2 <= 0:\n",
    "        raise ValueError(\"Degrees of freedom must be greater than zero.\")\n",
    "    \n",
    "    if df2 <= 2:\n",
    "        raise ValueError(\"Degrees of freedom for the denominator must be greater than 2.\")\n",
    "    \n",
    "    mean = df2 / (df2 - 2)\n",
    "    variance_numerator = 2 * (df2 ** 2) * (df1 + df2 - 2)\n",
    "    variance_denominator = df1 * (df2 - 2) ** 2 * (df2 - 4)\n",
    "    variance = variance_numerator / variance_denominator\n",
    "    \n",
    "    return mean, variance\n",
    "\n",
    "# Example usage\n",
    "df1 = 5\n",
    "df2 = 10\n",
    "mean, variance = f_distribution_mean_variance(df1, df2)\n",
    "print(\"Mean:\", mean)\n",
    "print(\"Variance:\", variance)\n"
   ]
  },
  {
   "cell_type": "markdown",
   "id": "b085bba8-6435-40f2-991c-226090f60165",
   "metadata": {
    "jp-MarkdownHeadingCollapsed": true,
    "tags": []
   },
   "source": [
    "# Q7. A random sample of 10 measurements is taken from a normal population with unknown variance. The sample variance is found to be 25. Another random sample of 15 measurements is taken from another normal population with unknown variance, and the sample variance is found to be 20. Conduct an F-test at the 10% significance level to determine if the variances are significantly different."
   ]
  },
  {
   "cell_type": "code",
   "execution_count": 3,
   "id": "d9135e42-7fa9-4696-be70-fc3e65264b9c",
   "metadata": {},
   "outputs": [
    {
     "name": "stdout",
     "output_type": "stream",
     "text": [
      "Fail to reject the null hypothesis\n",
      "F-value 1.25\n",
      "DF1 9\n",
      "DF2 14\n",
      "P-value 0.34160971912929744\n"
     ]
    }
   ],
   "source": [
    "import scipy.stats as stats\n",
    "\n",
    "n1 = 10\n",
    "s_var1 = 25\n",
    "\n",
    "n2 = 15\n",
    "s_var2 = 20\n",
    "\n",
    "df1 = n1 - 1\n",
    "df2 = n2 - 1\n",
    "alpha = 1 - 0.90\n",
    "\n",
    "f_critical = stats.f.ppf(1 - alpha , df1,df2)\n",
    "f_value = s_var1 / s_var2\n",
    "\n",
    "p_value = stats.f.sf(f_value,df1,df2)\n",
    "\n",
    "if f_critical < f_value:\n",
    "    print(\"Reject the null hypothesis\")\n",
    "else:\n",
    "    print(\"Fail to reject the null hypothesis\")\n",
    "    \n",
    "    \n",
    "print(\"F-value\",f_value)\n",
    "print(\"DF1\",df1)\n",
    "print(\"DF2\",df2)\n",
    "print(\"P-value\",p_value)"
   ]
  },
  {
   "cell_type": "markdown",
   "id": "1a0510cd-de1b-4369-a0f9-315cde52d3db",
   "metadata": {},
   "source": [
    "# Q8. The following data represent the waiting times in minutes at two different restaurants on a Saturday night: Restaurant A: 24, 25, 28, 23, 22, 20, 27; Restaurant B: 31, 33, 35, 30, 32, 36. Conduct an F-test at the 5% significance level to determine if the variances are significantly different."
   ]
  },
  {
   "cell_type": "code",
   "execution_count": 6,
   "id": "742927d8-e6d5-486d-bfba-e4470d243610",
   "metadata": {},
   "outputs": [
    {
     "name": "stdout",
     "output_type": "stream",
     "text": [
      "Fail to reject the null hypothesis: Variances are equal.\n",
      "F-value: 1.4551907719609583\n",
      "Degrees of Freedom: 6 , 5\n",
      "P-value: 0.6974815747937484\n"
     ]
    }
   ],
   "source": [
    "import numpy as np\n",
    "from scipy.stats import f\n",
    "\n",
    "# Data for Restaurant A and Restaurant B\n",
    "data_a = np.array([24, 25, 28, 23, 22, 20, 27])\n",
    "data_b = np.array([31, 33, 35, 30, 32, 36])\n",
    "\n",
    "# Calculate sample variances\n",
    "variance_a = np.var(data_a, ddof=1)\n",
    "variance_b = np.var(data_b, ddof=1)\n",
    "\n",
    "# Perform F-test\n",
    "f_statistic = variance_a / variance_b\n",
    "degrees_of_freedom1 = len(data_a) - 1\n",
    "degrees_of_freedom2 = len(data_b) - 1\n",
    "alpha = 0.05  # significance level\n",
    "\n",
    "# Calculate p-value\n",
    "p_value = 2 * min(f.cdf(f_statistic, degrees_of_freedom1, degrees_of_freedom2),\n",
    "                  1 - f.cdf(f_statistic, degrees_of_freedom1, degrees_of_freedom2))\n",
    "\n",
    "# Interpret the results\n",
    "if p_value < alpha:\n",
    "    print(\"Reject the null hypothesis: Variances are not equal.\")\n",
    "else:\n",
    "    print(\"Fail to reject the null hypothesis: Variances are equal.\")\n",
    "\n",
    "# Print F-test results\n",
    "print(\"F-value:\", f_statistic)\n",
    "print(\"Degrees of Freedom:\", degrees_of_freedom1, \",\", degrees_of_freedom2)\n",
    "print(\"P-value:\", p_value)\n"
   ]
  },
  {
   "cell_type": "markdown",
   "id": "d3193870-028f-4ed6-8355-a74cb9af7f8c",
   "metadata": {},
   "source": [
    "# Q9. The following data represent the test scores of two groups of students: Group A: 80, 85, 90, 92, 87, 83; Group B: 75, 78, 82, 79, 81, 84. Conduct an F-test at the 1% significance level to determine if the variances are significantly different."
   ]
  },
  {
   "cell_type": "code",
   "execution_count": 1,
   "id": "120f3c7e-123f-4120-92ab-bc336b82309c",
   "metadata": {},
   "outputs": [
    {
     "name": "stdout",
     "output_type": "stream",
     "text": [
      "Fail to reject the null hypothesis: Variances are equal.\n",
      "F-value: 1.9442622950819677\n",
      "Degrees of Freedom: 5 , 5\n",
      "P-value: 0.4831043549070688\n"
     ]
    }
   ],
   "source": [
    "import numpy as np\n",
    "from scipy.stats import f\n",
    "\n",
    "# Data for Group A and Group B\n",
    "group_a_scores = np.array([80, 85, 90, 92, 87, 83])\n",
    "group_b_scores = np.array([75, 78, 82, 79, 81, 84])\n",
    "\n",
    "# Calculate sample variances\n",
    "variance_a = np.var(group_a_scores, ddof=1)\n",
    "variance_b = np.var(group_b_scores, ddof=1)\n",
    "\n",
    "# Perform F-test\n",
    "f_statistic = variance_a / variance_b\n",
    "degrees_of_freedom1 = len(group_a_scores) - 1\n",
    "degrees_of_freedom2 = len(group_b_scores) - 1\n",
    "alpha = 0.01  # significance level\n",
    "\n",
    "# Calculate p-value\n",
    "p_value = 2 * min(f.cdf(f_statistic, degrees_of_freedom1, degrees_of_freedom2),\n",
    "                  1 - f.cdf(f_statistic, degrees_of_freedom1, degrees_of_freedom2))\n",
    "\n",
    "# Interpret the results\n",
    "if p_value < alpha:\n",
    "    print(\"Reject the null hypothesis: Variances are not equal.\")\n",
    "else:\n",
    "    print(\"Fail to reject the null hypothesis: Variances are equal.\")\n",
    "\n",
    "# Print F-test results\n",
    "print(\"F-value:\", f_statistic)\n",
    "print(\"Degrees of Freedom:\", degrees_of_freedom1, \",\", degrees_of_freedom2)\n",
    "print(\"P-value:\", p_value)\n"
   ]
  },
  {
   "cell_type": "code",
   "execution_count": null,
   "id": "656902c3-616f-4f35-b8ec-5b1ddaeff660",
   "metadata": {},
   "outputs": [],
   "source": []
  }
 ],
 "metadata": {
  "kernelspec": {
   "display_name": "Python 3 (ipykernel)",
   "language": "python",
   "name": "python3"
  },
  "language_info": {
   "codemirror_mode": {
    "name": "ipython",
    "version": 3
   },
   "file_extension": ".py",
   "mimetype": "text/x-python",
   "name": "python",
   "nbconvert_exporter": "python",
   "pygments_lexer": "ipython3",
   "version": "3.10.8"
  }
 },
 "nbformat": 4,
 "nbformat_minor": 5
}
